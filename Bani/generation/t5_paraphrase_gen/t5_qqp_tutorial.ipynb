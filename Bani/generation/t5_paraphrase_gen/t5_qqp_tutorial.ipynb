{
 "cells": [
  {
   "cell_type": "markdown",
   "metadata": {},
   "source": [
    "# 0. Import Dependencies, Load Questions and Answers, Create folder for storing augmented FAQ"
   ]
  },
  {
   "cell_type": "code",
   "execution_count": null,
   "metadata": {},
   "outputs": [],
   "source": [
    "from Bani.Bani import Bani\n",
    "from Bani.core.FAQ import FAQ\n",
    "from Bani.core.generation import GenerateManager\n",
    "from Bani.generation.t5_paraphrase_gen.t5_paraphrase import T5Generator\n",
    "\n",
    "import pickle\n",
    "def load_dict(path):\n",
    "    # Load .pickle format as dictionary\n",
    "    with open(path, 'rb') as f:\n",
    "        return pickle.load(f)\n",
    "\n",
    "def extractQA(orignalDct):\n",
    "    # Return list of questions and answers in list format\n",
    "    # originalDct format: {\"question_to_label\": {<question 1>: <label that maps to answer>,...}, \n",
    "    #                      \"answer_to_label\": {<answer question 1>: <label for questions to be mapped to>}}\n",
    "    # Handles 1-1 mapping of question-answer OR many-1 mapping of question-answer\n",
    "    q2L = orignalDct[\"question_to_label\"]\n",
    "    a2L = orignalDct[\"answer_to_label\"]\n",
    "    \n",
    "\n",
    "    l2A = dict()\n",
    "    for a,l in a2L.items():\n",
    "        l2A[l] = a\n",
    "\n",
    "\n",
    "    questions = []\n",
    "    answers = []\n",
    "\n",
    "    for q,l in q2L.items():\n",
    "        questions.append(q)\n",
    "        answers.append(l2A[l])\n",
    "    return questions , answers"
   ]
  },
  {
   "cell_type": "code",
   "execution_count": null,
   "metadata": {},
   "outputs": [],
   "source": [
    "original_dict = load_dict(\"./tutorialFAQs/baby_bonus_orignal.pkl\")\n",
    "babybonus_questions, babybonus_answers = extractQA(original_dict)\n"
   ]
  },
  {
   "cell_type": "code",
   "execution_count": null,
   "metadata": {},
   "outputs": [],
   "source": [
    "import os\n",
    "\n",
    "faq_store = './t5_qqp_tutorial'\n",
    "\n",
    "if not os.path.exists(faq_store):\n",
    "    os.makedirs(faq_store)"
   ]
  },
  {
   "cell_type": "markdown",
   "metadata": {},
   "source": [
    "# 1. Instantiate generatorManager"
   ]
  },
  {
   "cell_type": "markdown",
   "metadata": {},
   "source": [
    "## 1a. Either use T5Generator on its Own"
   ]
  },
  {
   "cell_type": "code",
   "execution_count": null,
   "metadata": {},
   "outputs": [],
   "source": [
    "generate_n_paraphrases = 30\n",
    "keep_top_k_paraphrases = 10\n",
    "\n",
    "qqp_producer = T5Generator(model_path=\"t5_qqp\", num_return=generate_n_paraphrases)\n",
    "\n",
    "names = [\"T5\"]\n",
    "quantity = [keep_top_k_paraphrases]\n",
    "\n",
    "generatorManager = GenerateManager(\n",
    "    producers=[\n",
    "        qqp_producer,\n",
    "    ],\n",
    "    names=names,\n",
    "    nums=quantity,\n",
    ")"
   ]
  },
  {
   "cell_type": "markdown",
   "metadata": {},
   "source": [
    "## 1b. Or use T5Generator with the other existing producers"
   ]
  },
  {
   "cell_type": "code",
   "execution_count": null,
   "metadata": {},
   "outputs": [],
   "source": [
    "generate_n_paraphrases = 30\n",
    "keep_top_k_paraphrases = 10\n",
    "qqp_producer = T5Generator(model_path=\"t5_qqp\",\n",
    "                           top_p=0.98, num_return=generate_n_paraphrases, max_len=128, top_k=120, is_early_stopping=True)\n",
    "\n",
    "symsub_producer = SymSubGenerator(dummyEN(\"lite\"))\n",
    "fpm_producer = FPMGenerator()\n",
    "eda_producer = EDAGenerator()\n",
    "\n",
    "names = [\"T5\", \"SymSub\", \"FPM\", \"EDA\"]\n",
    "quantity = [keep_top_k_paraphrases, 3, 3, 3]\n",
    "\n",
    "generatorManager = GenerateManager(\n",
    "    producers=[\n",
    "        qqp_producer,\n",
    "        symsub_producer,\n",
    "        fpm_producer,\n",
    "        eda_producer\n",
    "    ],\n",
    "    names=names,\n",
    "    nums=quantity,\n",
    ")\n"
   ]
  },
  {
   "cell_type": "markdown",
   "metadata": {},
   "source": [
    "# 2. FAQ Augmentation!"
   ]
  },
  {
   "cell_type": "code",
   "execution_count": null,
   "metadata": {},
   "outputs": [],
   "source": [
    "babybonusFAQ = FAQ(name=\"babyBonus\", questions=babybonus_questions, answers=babybonus_answers)\n",
    "\n",
    "babybonusFAQ.buildFAQ(generatorManager)\n",
    "\n",
    "babybonusFAQ.save(faq_store)"
   ]
  },
  {
   "cell_type": "markdown",
   "metadata": {},
   "source": [
    "You will notice that your augmented FAQ will be successfully saved to faq_store. \n",
    "\n",
    "NOTE: Refer to `Tutorial.ipynb` in root directory on how to load the saved FAQ object and instantiate the chatbot using the loaded FAQ object. You may choose to either train the chatbot or use it directly, as shown in the `Tutorial.ipynb`."
   ]
  },
  {
   "cell_type": "markdown",
   "metadata": {},
   "source": [
    "# 3. Other Features"
   ]
  },
  {
   "cell_type": "markdown",
   "metadata": {},
   "source": [
    "## 3a. Generate for a single question"
   ]
  },
  {
   "cell_type": "code",
   "execution_count": null,
   "metadata": {},
   "outputs": [],
   "source": [
    "target = \"How can I save in the Child Development Account (CDA)?\"\n",
    "n = 40\n",
    "k = 15\n",
    "candidate_paraphrases = qqp_producer.adhoc_generate(input_question = target, generate_n_paraphrases = n, \n",
    "                                                    keep_top_k_paraphrases = k, original_questions = babybonus_questions)\n",
    "\n",
    "print(f\"Input Question: {input_question}\\n\")\n",
    "print(f\"Candidate Paraphrases: \\n\")\n",
    "\n",
    "count = 1\n",
    "for paraphrase in candidate_paraphrases:\n",
    "    print(f\"{count}. {paraphrase}\")\n",
    "    print(\"\\n\")\n",
    "    count += 1"
   ]
  },
  {
   "cell_type": "markdown",
   "metadata": {},
   "source": [
    "## 3b. Find Similar Questions within FAQ dataset"
   ]
  },
  {
   "cell_type": "code",
   "execution_count": null,
   "metadata": {},
   "outputs": [],
   "source": [
    "qqp_producer.find_similar_questions_within_faq(babybonus_questions)"
   ]
  }
 ],
 "metadata": {
  "kernelspec": {
   "display_name": "Python 3",
   "language": "python",
   "name": "python3"
  },
  "language_info": {
   "codemirror_mode": {
    "name": "ipython",
    "version": 3
   },
   "file_extension": ".py",
   "mimetype": "text/x-python",
   "name": "python",
   "nbconvert_exporter": "python",
   "pygments_lexer": "ipython3",
   "version": "3.7.7"
  }
 },
 "nbformat": 4,
 "nbformat_minor": 4
}
